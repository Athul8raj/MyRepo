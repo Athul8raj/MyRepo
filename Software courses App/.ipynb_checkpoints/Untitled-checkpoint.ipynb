{
 "cells": [
  {
   "cell_type": "code",
   "execution_count": 8,
   "metadata": {},
   "outputs": [
    {
     "name": "stdout",
     "output_type": "stream",
     "text": [
      "71\n"
     ]
    }
   ],
   "source": [
    "with open(\"requirements.txt\",'r') as f:\n",
    "    count = 0\n",
    "    for line in f:\n",
    "        for character in line:\n",
    "            count += (1 if character.isupper() else 0)\n",
    "    print (count)"
   ]
  },
  {
   "cell_type": "code",
   "execution_count": 11,
   "metadata": {},
   "outputs": [
    {
     "name": "stdout",
     "output_type": "stream",
     "text": [
      "My name's rover and the number of pets is 1\n",
      "My name's spot and the number of pets is 1\n"
     ]
    }
   ],
   "source": [
    "  class Pet(object):\n",
    "    num_pets = 0\n",
    "\n",
    "    def __init__(self, name):\n",
    "        self.name = name\n",
    "        self.num_pets += 1\n",
    "\n",
    "    def speak(self):\n",
    "        print(\"My name's %s and the number of pets is %d\" % (self.name, self.num_pets))\n",
    "        \n",
    "rover = Pet(\"rover\")\n",
    "spot = Pet(\"spot\")\n",
    "rover.speak()\n",
    "spot.speak()"
   ]
  },
  {
   "cell_type": "code",
   "execution_count": 21,
   "metadata": {},
   "outputs": [
    {
     "name": "stdout",
     "output_type": "stream",
     "text": [
      "Give a number13\n"
     ]
    }
   ],
   "source": [
    "def fib(n):\n",
    "    a,b = 0,1\n",
    "    for i in range(n):\n",
    "        a,b = b,a+b\n",
    "        return a\n",
    "\n",
    "c = fib(10)\n",
    "print(c)\n"
   ]
  },
  {
   "cell_type": "code",
   "execution_count": 22,
   "metadata": {},
   "outputs": [
    {
     "name": "stdout",
     "output_type": "stream",
     "text": [
      "1440\n"
     ]
    }
   ],
   "source": [
    "def maximum_product(nums): # O(n log(n)) solution\n",
    "   nums.sort()\n",
    "   a1 = nums[-1] * nums[-2] * nums[-3]\n",
    "   a2 = nums[0] * nums[1] * nums[-1]\n",
    "   return max(a1, a2)\n",
    "\n",
    "a = maximum_product([2,4,5,24,2,12])\n",
    "print(a)"
   ]
  },
  {
   "cell_type": "code",
   "execution_count": 29,
   "metadata": {},
   "outputs": [
    {
     "name": "stdout",
     "output_type": "stream",
     "text": [
      "H\n",
      "e\n",
      "l\n",
      "l\n",
      "o\n",
      "W\n",
      "o\n",
      "r\n",
      "l\n",
      "d\n"
     ]
    }
   ],
   "source": [
    "my_string = \"Hello World\"\n",
    "my_str = my_string.replace(\" \",\"\")\n",
    "for char in my_str:\n",
    "    print(char)"
   ]
  },
  {
   "cell_type": "code",
   "execution_count": 23,
   "metadata": {},
   "outputs": [
    {
     "name": "stdout",
     "output_type": "stream",
     "text": [
      "\n",
      "Multiplication Table\n",
      "[0, 1, 0]\n",
      "[1, 1, 1]\n",
      "[2, 1, 2]\n",
      "[3, 1, 3]\n",
      "[4, 1, 4]\n",
      "[0, 2, 0]\n",
      "[1, 2, 2]\n",
      "[2, 2, 4]\n",
      "[3, 2, 6]\n",
      "[4, 2, 8]\n",
      "[0, 3, 0]\n",
      "[1, 3, 3]\n",
      "[2, 3, 6]\n",
      "[3, 3, 9]\n",
      "[4, 3, 12]\n",
      "[0, 4, 0]\n",
      "[1, 4, 4]\n",
      "[2, 4, 8]\n",
      "[3, 4, 12]\n",
      "[4, 4, 16]\n",
      "[0, 5, 0]\n",
      "[1, 5, 5]\n",
      "[2, 5, 10]\n",
      "[3, 5, 15]\n",
      "[4, 5, 20]\n",
      "[0, 6, 0]\n",
      "[1, 6, 6]\n",
      "[2, 6, 12]\n",
      "[3, 6, 18]\n",
      "[4, 6, 24]\n",
      "[0, 7, 0]\n",
      "[1, 7, 7]\n",
      "[2, 7, 14]\n",
      "[3, 7, 21]\n",
      "[4, 7, 28]\n",
      "[0, 8, 0]\n",
      "[1, 8, 8]\n",
      "[2, 8, 16]\n",
      "[3, 8, 24]\n",
      "[4, 8, 32]\n",
      "[0, 9, 0]\n",
      "[1, 9, 9]\n",
      "[2, 9, 18]\n",
      "[3, 9, 27]\n",
      "[4, 9, 36]\n",
      "[0, 10, 0]\n",
      "[1, 10, 10]\n",
      "[2, 10, 20]\n",
      "[3, 10, 30]\n",
      "[4, 10, 40]\n"
     ]
    }
   ],
   "source": [
    "\n",
    "table = [[a, b, a * b] for b in range(1, 11) for a in range(5)]\n",
    " \n",
    "print(\"\\nMultiplication Table\")\n",
    "for i in table:\n",
    "    print (i)"
   ]
  },
  {
   "cell_type": "code",
   "execution_count": 25,
   "metadata": {},
   "outputs": [
    {
     "name": "stdout",
     "output_type": "stream",
     "text": [
      "['m', 'y', ' ', 'W', 'o', 'r', 'l', 'd']\n"
     ]
    },
    {
     "ename": "AttributeError",
     "evalue": "'list' object has no attribute 'strip'",
     "output_type": "error",
     "traceback": [
      "\u001b[1;31m---------------------------------------------------------------------------\u001b[0m",
      "\u001b[1;31mAttributeError\u001b[0m                            Traceback (most recent call last)",
      "\u001b[1;32m<ipython-input-25-d15afe34772c>\u001b[0m in \u001b[0;36m<module>\u001b[1;34m()\u001b[0m\n\u001b[0;32m      2\u001b[0m \u001b[0mli\u001b[0m \u001b[1;33m=\u001b[0m \u001b[0mlist\u001b[0m\u001b[1;33m(\u001b[0m\u001b[0mv\u001b[0m\u001b[1;33m)\u001b[0m\u001b[1;33m\u001b[0m\u001b[0m\n\u001b[0;32m      3\u001b[0m \u001b[0mprint\u001b[0m \u001b[1;33m(\u001b[0m\u001b[0mli\u001b[0m\u001b[1;33m)\u001b[0m\u001b[1;33m\u001b[0m\u001b[0m\n\u001b[1;32m----> 4\u001b[1;33m \u001b[0mb\u001b[0m \u001b[1;33m=\u001b[0m \u001b[0mli\u001b[0m\u001b[1;33m.\u001b[0m\u001b[0mstrip\u001b[0m\u001b[1;33m(\u001b[0m\u001b[1;34m\"\"\u001b[0m\u001b[1;33m)\u001b[0m\u001b[1;33m\u001b[0m\u001b[0m\n\u001b[0m\u001b[0;32m      5\u001b[0m \u001b[0mprint\u001b[0m \u001b[1;33m(\u001b[0m\u001b[0mb\u001b[0m\u001b[1;33m)\u001b[0m\u001b[1;33m\u001b[0m\u001b[0m\n",
      "\u001b[1;31mAttributeError\u001b[0m: 'list' object has no attribute 'strip'"
     ]
    }
   ],
   "source": [
    "v = \"my World\"\n",
    "li = list(v)\n",
    "print (li)\n",
    "b = li.strip(\"\")\n",
    "print (b)"
   ]
  },
  {
   "cell_type": "code",
   "execution_count": 12,
   "metadata": {},
   "outputs": [],
   "source": [
    "t = (1,2,3,'123')\n"
   ]
  },
  {
   "cell_type": "code",
   "execution_count": 7,
   "metadata": {},
   "outputs": [
    {
     "name": "stdout",
     "output_type": "stream",
     "text": [
      "[4]\n"
     ]
    }
   ],
   "source": [
    "t = ([1,4])\n",
    "for i in t:\n",
    "    t.pop(0)\n",
    "    print(t)"
   ]
  },
  {
   "cell_type": "code",
   "execution_count": 5,
   "metadata": {},
   "outputs": [
    {
     "name": "stdout",
     "output_type": "stream",
     "text": [
      "0\n"
     ]
    }
   ],
   "source": [
    "def findMin(aList):\n",
    "    miniNum  = aList[0]\n",
    "    for i in aList:\n",
    "        if i < miniNum:\n",
    "            miniNum = i\n",
    "    return miniNum\n",
    "\n",
    "print(findMin([3,2,5,6,0]))"
   ]
  },
  {
   "cell_type": "code",
   "execution_count": 7,
   "metadata": {},
   "outputs": [
    {
     "name": "stdout",
     "output_type": "stream",
     "text": [
      "2\n"
     ]
    }
   ],
   "source": [
    "def findMin(alist):\n",
    "    minNum = alist[0]\n",
    "    for i in alist:\n",
    "        issmallest = True\n",
    "        for j in alist:\n",
    "            if i > j:\n",
    "                issmallest = False\n",
    "        if issmallest:\n",
    "            minNum = i\n",
    "    return minNum\n",
    "\n",
    "print(findMin([3,2,5,6]))"
   ]
  },
  {
   "cell_type": "code",
   "execution_count": 14,
   "metadata": {},
   "outputs": [
    {
     "name": "stdout",
     "output_type": "stream",
     "text": [
      "False\n"
     ]
    }
   ],
   "source": [
    "def anagram(s1,s2):\n",
    "    list1 = list(s1)\n",
    "    list2 = list(s2)\n",
    "    \n",
    "    list1.sort()\n",
    "    list2.sort()\n",
    "    \n",
    "    matches = True\n",
    "    pos = 0\n",
    "    \n",
    "    while pos < len(s1) and matches:\n",
    "        if list1[pos] == list2[pos]:\n",
    "            pos += 1\n",
    "        else:\n",
    "            matches = False\n",
    "    return matches\n",
    "\n",
    "print(anagram('abce','edba'))"
   ]
  },
  {
   "cell_type": "code",
   "execution_count": 29,
   "metadata": {},
   "outputs": [
    {
     "data": {
      "text/plain": [
       "False"
      ]
     },
     "execution_count": 29,
     "metadata": {},
     "output_type": "execute_result"
    }
   ],
   "source": [
    "class Stack:\n",
    "    def __init__(self):\n",
    "        self.items = []\n",
    "    def push(self,item):\n",
    "        self.items.append(item)\n",
    "    def isEmpty(self):\n",
    "        if self.items == []:\n",
    "            return True\n",
    "        else:\n",
    "            return False\n",
    "        \n",
    "stack = Stack()\n",
    "stack.push(\"Bob\")\n",
    "stack.isEmpty()"
   ]
  },
  {
   "cell_type": "code",
   "execution_count": 40,
   "metadata": {},
   "outputs": [
    {
     "name": "stdout",
     "output_type": "stream",
     "text": [
      "The factorial of 8 is 5040\n"
     ]
    }
   ],
   "source": [
    "n = 7\n",
    "factorial = 1\n",
    "if n < 0 :\n",
    "    print (\"Factorial does not exist\")\n",
    "elif n == 0:\n",
    "    print (\"factorila is 1\")\n",
    "else:\n",
    "    for i in range(1,n + 1):\n",
    "        factorial = factorial* i \n",
    "    print (\"The factorial of\",num,\"is\",factorial)\n",
    "\n",
    "        \n",
    "   \n"
   ]
  },
  {
   "cell_type": "code",
   "execution_count": 26,
   "metadata": {},
   "outputs": [
    {
     "name": "stdout",
     "output_type": "stream",
     "text": [
      "The factorial of 6 is 720\n"
     ]
    }
   ],
   "source": [
    "# Python program to find the factorial of a number provided by the user.\n",
    "\n",
    "# change the value for a different result\n",
    "num = 6\n",
    "\n",
    "# uncomment to take input from the user\n",
    "#num = int(input(\"Enter a number: \"))\n",
    "\n",
    "factorial = 1\n",
    "\n",
    "# check if the number is negative, positive or zero\n",
    "if num < 0:\n",
    "   print(\"Sorry, factorial does not exist for negative numbers\")\n",
    "elif num == 0:\n",
    "   print(\"The factorial of 0 is 1\")\n",
    "else:\n",
    "   for i in range(1,num + 1):\n",
    "       factorial = factorial*i\n",
    "   print(\"The factorial of\",num,\"is\",factorial)"
   ]
  },
  {
   "cell_type": "code",
   "execution_count": 48,
   "metadata": {},
   "outputs": [
    {
     "name": "stdout",
     "output_type": "stream",
     "text": [
      "The factorial of 7 is 5040\n"
     ]
    }
   ],
   "source": [
    "n = 7\n",
    "def recursion(n):\n",
    "    if n == 1:\n",
    "        return n\n",
    "    else:\n",
    "        return n*recursion(n-1)\n",
    "\n",
    "if n < 0 :\n",
    "    print (\"Factorial does not exist\")\n",
    "elif n == 0:\n",
    "    print (\"factorila is 1\")\n",
    "else:\n",
    "    print (\"The factorial of\",n,\"is\",recursion(n))\n",
    "\n"
   ]
  },
  {
   "cell_type": "code",
   "execution_count": 58,
   "metadata": {},
   "outputs": [
    {
     "name": "stdout",
     "output_type": "stream",
     "text": [
      "its not a prime\n",
      "7 times 263 is 1841\n"
     ]
    }
   ],
   "source": [
    "n = 1841\n",
    "\n",
    "if n > 1 :\n",
    "    for i in range(2,n+1):\n",
    "        if (n % i) == 0:\n",
    "            print (\"its not a prime\")\n",
    "            print (i,\"times\", n//i, \"is\", n)\n",
    "            break\n",
    "    else:\n",
    "        print(\"It is a prime number\")\n",
    "else:\n",
    "    print (\"it is not a prime number\")\n",
    "        "
   ]
  },
  {
   "cell_type": "code",
   "execution_count": 62,
   "metadata": {},
   "outputs": [],
   "source": [
    "class Node:\n",
    "    def __init__(self, contents=None, next=None):\n",
    "        self.contents = contents\n",
    "        self.next  = next\n",
    "\n",
    "    def getContents(self):\n",
    "        return self.contents\n",
    "\n",
    "    def __str__(self):\n",
    "        return str(self.contents)\n",
    "\n",
    "def print_list(node):\n",
    "    while node:\n",
    "        print(node.getContents())\n",
    "        node = node.next\n",
    "    print()\n",
    "\n",
    "def testList():\n",
    "    node1 = Node(\"car\")\n",
    "    node2 = Node(\"bus\")\n",
    "    node3 = Node(\"lorry\")\n",
    "    node1.next = node2\n",
    "    node2.next = node3\n",
    "    print_list(node1)"
   ]
  },
  {
   "cell_type": "code",
   "execution_count": 67,
   "metadata": {},
   "outputs": [
    {
     "name": "stdout",
     "output_type": "stream",
     "text": [
      "{1: 'Apple', 2: 'Mango', 3: 'Pine', 4: 'Guava'}\n"
     ]
    }
   ],
   "source": [
    "list1 = [1,2,3,4]\n",
    "list2 = [\"Apple\",\"Mango\",\"Pine\",\"Guava\"]\n",
    "dic = dict(zip(list1,list2))\n",
    "print (dic)"
   ]
  },
  {
   "cell_type": "code",
   "execution_count": 75,
   "metadata": {},
   "outputs": [
    {
     "data": {
      "text/plain": [
       "[1, 2, 3, 4, 5, 6, 2, 3, 4, 1, 6, 7]"
      ]
     },
     "execution_count": 75,
     "metadata": {},
     "output_type": "execute_result"
    }
   ],
   "source": [
    "list = [[1,2],[3,4],[5,6],[2,3],[4,1],[6,7]]\n",
    "sum(list,[])"
   ]
  },
  {
   "cell_type": "code",
   "execution_count": 80,
   "metadata": {},
   "outputs": [
    {
     "data": {
      "text/plain": [
       "array([], dtype=float64)"
      ]
     },
     "execution_count": 80,
     "metadata": {},
     "output_type": "execute_result"
    }
   ],
   "source": [
    "import numpy as np\n",
    "np.array([])"
   ]
  },
  {
   "cell_type": "code",
   "execution_count": 27,
   "metadata": {},
   "outputs": [
    {
     "name": "stdout",
     "output_type": "stream",
     "text": [
      "2\n"
     ]
    }
   ],
   "source": [
    "print (5//2)"
   ]
  },
  {
   "cell_type": "code",
   "execution_count": 16,
   "metadata": {},
   "outputs": [
    {
     "name": "stdout",
     "output_type": "stream",
     "text": [
      "None\n"
     ]
    }
   ],
   "source": [
    "li = [1,2,3,4,5]\n",
    "l = []\n",
    "l = li.extend([1])\n",
    "print (l)"
   ]
  },
  {
   "cell_type": "code",
   "execution_count": 3,
   "metadata": {},
   "outputs": [
    {
     "name": "stdout",
     "output_type": "stream",
     "text": [
      "Tests passed!\n"
     ]
    }
   ],
   "source": [
    "def convert_to_decimal(number,base):\n",
    "    multiplier,result = 1,0\n",
    "    while number > 0:\n",
    "        result += number%10*multiplier\n",
    "        multiplier *= base\n",
    "        number = number //10\n",
    "    return result\n",
    "\n",
    "def test_convert_to_decimal():\n",
    "    number, base = 1001, 2\n",
    "    assert(convert_to_decimal(number, base) == 9)\n",
    "    print('Tests passed!')\n",
    "\n",
    "if __name__ == '__main__':\n",
    "    test_convert_to_decimal()\n",
    "    \n",
    "    "
   ]
  },
  {
   "cell_type": "code",
   "execution_count": 8,
   "metadata": {},
   "outputs": [
    {
     "name": "stdout",
     "output_type": "stream",
     "text": [
      "Tests passed!\n"
     ]
    }
   ],
   "source": [
    "def convert_from_decimal(number,base):\n",
    "    multiplier,result = 1,0\n",
    "    while number > 0:\n",
    "        result += number%base*multiplier\n",
    "        multiplier *= 10\n",
    "        number = number // base\n",
    "    return result\n",
    "\n",
    "def test_convert_to_decimal():\n",
    "    number, base = 9, 2\n",
    "    assert(convert_from_decimal(number, base) == 1001)\n",
    "    print('Tests passed!')\n",
    "\n",
    "if __name__ == '__main__':\n",
    "    test_convert_to_decimal()"
   ]
  },
  {
   "cell_type": "code",
   "execution_count": 14,
   "metadata": {},
   "outputs": [
    {
     "name": "stdout",
     "output_type": "stream",
     "text": [
      "Tests passed!\n"
     ]
    }
   ],
   "source": [
    "def gcd(a,b):\n",
    "    while (b != 0):\n",
    "        result = b\n",
    "        a,b = b, a%b\n",
    "    return result\n",
    "\n",
    "def test_finding_gcd():\n",
    "    number1 = 21\n",
    "    number2 = 12\n",
    "    assert(gcd(number1, number2) == 3)\n",
    "    print('Tests passed!')\n",
    "\n",
    "if __name__ == '__main__':\n",
    "    test_finding_gcd()\n",
    "    "
   ]
  },
  {
   "cell_type": "code",
   "execution_count": 16,
   "metadata": {},
   "outputs": [],
   "source": [
    "def prime(num):\n",
    "    while num < 4 :\n",
    "        return True\n",
    "    for x in range(2, num+1):\n",
    "        if num % x == 0:\n",
    "            return True\n",
    "        else:\n",
    "            return False\n",
    "    return True\n",
    "\n",
    "def test_prime():\n",
    "    num = 10\n",
    "    assert(prime(num) == False)\n",
    "    print(\"Test passed\")"
   ]
  },
  {
   "cell_type": "code",
   "execution_count": 28,
   "metadata": {},
   "outputs": [
    {
     "name": "stdout",
     "output_type": "stream",
     "text": [
      "140\n"
     ]
    }
   ],
   "source": [
    "import numpy as np\n",
    "import random\n",
    "\n",
    "ax = np.random.randint(400)\n",
    "print (ax)"
   ]
  },
  {
   "cell_type": "code",
   "execution_count": 33,
   "metadata": {},
   "outputs": [
    {
     "name": "stdout",
     "output_type": "stream",
     "text": [
      "<class 'type'>\n"
     ]
    }
   ],
   "source": [
    "class Li:\n",
    "    def __init__(self,num):\n",
    "        self.num = num\n",
    "    \n",
    "    \n",
    "\n",
    "print(type(Li))"
   ]
  },
  {
   "cell_type": "code",
   "execution_count": 34,
   "metadata": {},
   "outputs": [
    {
     "name": "stdout",
     "output_type": "stream",
     "text": [
      "\n",
      "None\n"
     ]
    }
   ],
   "source": [
    "print(print())"
   ]
  },
  {
   "cell_type": "code",
   "execution_count": 45,
   "metadata": {},
   "outputs": [
    {
     "name": "stdout",
     "output_type": "stream",
     "text": [
      "PQR STU VWX\n"
     ]
    }
   ],
   "source": [
    "li = 'XWV UTS RQP'\n",
    "li= li[::-1]\n",
    "print(li)\n"
   ]
  },
  {
   "cell_type": "code",
   "execution_count": 38,
   "metadata": {},
   "outputs": [
    {
     "name": "stdout",
     "output_type": "stream",
     "text": [
      "012\n"
     ]
    },
    {
     "ename": "TypeError",
     "evalue": "unsupported operand type(s) for +=: 'int' and 'str'",
     "output_type": "error",
     "traceback": [
      "\u001b[1;31m---------------------------------------------------------------------------\u001b[0m",
      "\u001b[1;31mTypeError\u001b[0m                                 Traceback (most recent call last)",
      "\u001b[1;32m<ipython-input-38-57242c468802>\u001b[0m in \u001b[0;36m<module>\u001b[1;34m()\u001b[0m\n\u001b[0;32m      4\u001b[0m \u001b[0msummer\u001b[0m \u001b[1;33m=\u001b[0m \u001b[1;36m0\u001b[0m\u001b[1;33m\u001b[0m\u001b[0m\n\u001b[0;32m      5\u001b[0m \u001b[1;32mfor\u001b[0m \u001b[0mi\u001b[0m \u001b[1;32min\u001b[0m \u001b[0mrange\u001b[0m\u001b[1;33m(\u001b[0m\u001b[0mlen\u001b[0m\u001b[1;33m(\u001b[0m\u001b[0mnum\u001b[0m\u001b[1;33m)\u001b[0m\u001b[1;33m)\u001b[0m\u001b[1;33m:\u001b[0m\u001b[1;33m\u001b[0m\u001b[0m\n\u001b[1;32m----> 6\u001b[1;33m     \u001b[0msummer\u001b[0m \u001b[1;33m+=\u001b[0m \u001b[0mnum\u001b[0m\u001b[1;33m\u001b[0m\u001b[0m\n\u001b[0m\u001b[0;32m      7\u001b[0m     \u001b[0mnum\u001b[0m \u001b[1;33m-=\u001b[0m \u001b[1;36m1\u001b[0m\u001b[1;33m\u001b[0m\u001b[0m\n\u001b[0;32m      8\u001b[0m     \u001b[0mprint\u001b[0m \u001b[1;33m(\u001b[0m\u001b[0mint\u001b[0m\u001b[1;33m(\u001b[0m\u001b[0msummer\u001b[0m\u001b[1;33m)\u001b[0m\u001b[1;33m)\u001b[0m\u001b[1;33m\u001b[0m\u001b[0m\n",
      "\u001b[1;31mTypeError\u001b[0m: unsupported operand type(s) for +=: 'int' and 'str'"
     ]
    }
   ],
   "source": [
    "num = input(int())\n",
    "num = map()\n",
    "\n",
    "\n",
    "summer = 0\n",
    "for i in range(len(num)):\n",
    "    summer += num\n",
    "    num -= 1\n",
    "    print (int(summer))"
   ]
  },
  {
   "cell_type": "code",
   "execution_count": 69,
   "metadata": {},
   "outputs": [
    {
     "name": "stdout",
     "output_type": "stream",
     "text": [
      "['C:\\\\ProgramData\\\\Anaconda3\\\\lib\\\\site-packages\\\\ipykernel_launcher.py', '-f', 'C:\\\\Users\\\\IBM_ADMIN\\\\AppData\\\\Roaming\\\\jupyter\\\\runtime\\\\kernel-0c7ddd58-cb0d-4108-943f-2736b4b9a060.json']\n"
     ]
    }
   ],
   "source": [
    "import sys\n",
    "\n",
    "print(sys.argv)"
   ]
  },
  {
   "cell_type": "code",
   "execution_count": 71,
   "metadata": {},
   "outputs": [
    {
     "name": "stdout",
     "output_type": "stream",
     "text": [
      "[1, 2, 3, 4, 5]\n"
     ]
    }
   ],
   "source": [
    "some_numbers = [5, 4, 3, 2, 1]\n",
    "some_numbers = sorted(some_numbers)\n",
    "print (some_numbers)"
   ]
  },
  {
   "cell_type": "code",
   "execution_count": 94,
   "metadata": {},
   "outputs": [
    {
     "name": "stdout",
     "output_type": "stream",
     "text": [
      "[]\n"
     ]
    }
   ],
   "source": [
    "some_list = [1, 2, 3, 4, 5, 6]\n",
    "for item in some_list: \n",
    "    li = []\n",
    "    if item == 4:\n",
    "        li= li.append(item)        \n",
    "print (li)"
   ]
  },
  {
   "cell_type": "code",
   "execution_count": 40,
   "metadata": {},
   "outputs": [
    {
     "name": "stdout",
     "output_type": "stream",
     "text": [
      "[17, 20, 26, 31, 44, 54, 55, 77, 93]\n"
     ]
    }
   ],
   "source": [
    "def bubble_sort(alist):\n",
    "    for num in range(len(alist)-1,0,-1):\n",
    "        for i in range(num):\n",
    "            if alist[i] > alist[i+1]:\n",
    "                temp = alist[i]\n",
    "                alist[i] = alist[i+1]\n",
    "                alist[i+1] = temp\n",
    "            \n",
    "alist = [54,26,93,17,77,31,44,55,20]\n",
    "bubble_sort(alist)\n",
    "print(alist)\n",
    "            "
   ]
  },
  {
   "cell_type": "code",
   "execution_count": 45,
   "metadata": {},
   "outputs": [
    {
     "ename": "SyntaxError",
     "evalue": "invalid syntax (<ipython-input-45-20c2c28bf522>, line 13)",
     "output_type": "error",
     "traceback": [
      "\u001b[1;36m  File \u001b[1;32m\"<ipython-input-45-20c2c28bf522>\"\u001b[1;36m, line \u001b[1;32m13\u001b[0m\n\u001b[1;33m    if s = []:\u001b[0m\n\u001b[1;37m         ^\u001b[0m\n\u001b[1;31mSyntaxError\u001b[0m\u001b[1;31m:\u001b[0m invalid syntax\n"
     ]
    }
   ],
   "source": [
    "#for balancing parantheses\n",
    "\n",
    "\n",
    "def parChecker(symbolString):\n",
    "    s = []\n",
    "    balanced = True\n",
    "    index = 0\n",
    "    while index < len(symbolString) and balanced:\n",
    "        symbol = symbolString[index]\n",
    "        if symbol == \"(\":\n",
    "            s.append(symbol)\n",
    "        else:\n",
    "            if s is empty:\n",
    "                balanced = False\n",
    "            else:\n",
    "                s.pop()\n",
    "\n",
    "        index = index + 1\n",
    "\n",
    "    if balanced:\n",
    "        return True\n",
    "    else:\n",
    "        return False\n",
    "\n",
    "print(parChecker('((()))'))\n",
    "print(parChecker('(()'))"
   ]
  },
  {
   "cell_type": "code",
   "execution_count": 57,
   "metadata": {},
   "outputs": [
    {
     "name": "stdout",
     "output_type": "stream",
     "text": [
      "False\n"
     ]
    }
   ],
   "source": [
    "def closer(aString):\n",
    "    index = 0\n",
    "    s = []\n",
    "    found = False\n",
    "    while index < len(aString) and not found:\n",
    "        sym = aString[index]\n",
    "        if sym == (\"{\" or \"[\" or \"(\"):\n",
    "            s.append(sym)\n",
    "        else:\n",
    "            sym == (\"}\" or \"]\" or \")\")\n",
    "            s.append(sym)\n",
    "        index += 1\n",
    "    if len(s)% 2 == 0:\n",
    "        found = True\n",
    "        return found\n",
    "    else: \n",
    "        found = False\n",
    "        return found\n",
    "\n",
    "\n",
    "print (closer('(()}]'))\n",
    "        \n",
    "        \n",
    "            \n",
    "            \n",
    "        "
   ]
  },
  {
   "cell_type": "code",
   "execution_count": 58,
   "metadata": {},
   "outputs": [
    {
     "name": "stdout",
     "output_type": "stream",
     "text": [
      "\"Hello World\"\n",
      "\"\n",
      "H\n",
      "E\n",
      "L\n",
      "L\n",
      "O\n",
      " \n",
      "W\n",
      "O\n",
      "R\n",
      "L\n",
      "D\n",
      "\"\n"
     ]
    }
   ],
   "source": [
    "para = input(str())\n",
    "for line in para:\n",
    "    for char in line:\n",
    "        print (char.upper())\n",
    "    "
   ]
  },
  {
   "cell_type": "code",
   "execution_count": 60,
   "metadata": {},
   "outputs": [
    {
     "name": "stdout",
     "output_type": "stream",
     "text": [
      "\"Hello World\"\n",
      "\"Hi\"\n",
      "\"Hello\"\n",
      "\n",
      "\"HELLO WORLD\"\n",
      "\"HI\"\n",
      "\"HELLO\"\n"
     ]
    }
   ],
   "source": [
    "lines = []\n",
    "while True:\n",
    "    s = input()\n",
    "    if s:\n",
    "        lines.append(s.upper())\n",
    "    else:\n",
    "        break;\n",
    "\n",
    "for sentence in lines:\n",
    "    print (sentence)"
   ]
  },
  {
   "cell_type": "code",
   "execution_count": 64,
   "metadata": {},
   "outputs": [
    {
     "name": "stdout",
     "output_type": "stream",
     "text": [
      "Hello Hello\n",
      "Hello\n"
     ]
    }
   ],
   "source": [
    "s = input()\n",
    "words = [word for word in s.split(\" \")]\n",
    "print (''.join(sorted(list(set(words)))))"
   ]
  },
  {
   "cell_type": "code",
   "execution_count": 74,
   "metadata": {},
   "outputs": [
    {
     "name": "stdout",
     "output_type": "stream",
     "text": [
      "['Hello', \"World's\"]\n"
     ]
    }
   ],
   "source": [
    "line = \"Hello World's\\t\"\n",
    "li = line.split()\n",
    "print ((li))"
   ]
  },
  {
   "cell_type": "code",
   "execution_count": 75,
   "metadata": {},
   "outputs": [
    {
     "name": "stdout",
     "output_type": "stream",
     "text": [
      "Return the absolute value of the argument.\n"
     ]
    }
   ],
   "source": [
    "print (abs.__doc__)"
   ]
  },
  {
   "cell_type": "code",
   "execution_count": 1,
   "metadata": {},
   "outputs": [
    {
     "name": "stdout",
     "output_type": "stream",
     "text": [
      "min(iterable, *[, default=obj, key=func]) -> value\n",
      "min(arg1, arg2, *args, *[, key=func]) -> value\n",
      "\n",
      "With a single iterable argument, return its smallest item. The\n",
      "default keyword-only argument specifies an object to return if\n",
      "the provided iterable is empty.\n",
      "With two or more arguments, return the smallest argument.\n"
     ]
    }
   ],
   "source": [
    "print(min.__doc__)"
   ]
  },
  {
   "cell_type": "code",
   "execution_count": 2,
   "metadata": {},
   "outputs": [],
   "source": [
    "def selection_sort(mylist):\n",
    "    for fillitem in range(len(mylist)-1,0,-1):\n",
    "        maxPosition = 0\n",
    "        for location in range(1,fillitem+1):\n",
    "            if alist[location]>alist[maxPosition]:\n",
    "                maxPosition = location\n",
    "            \n",
    "        temp = alist[location]\n",
    "        alist[location] = alist[maxPosition]\n",
    "        alist[maxPosition] = temp\n",
    "        \n",
    "    return alist"
   ]
  },
  {
   "cell_type": "code",
   "execution_count": null,
   "metadata": {},
   "outputs": [],
   "source": [
    "#Quick sort\n",
    "\n",
    "def quickSort(alist):\n",
    "    quickSortHelper(alist,first,last)\n",
    "    \n",
    "def quickSortHelper(alist,first,last):\n",
    "    if first< last:\n",
    "        \n",
    "        splitPoint = partition(alist,first,last)\n",
    "        \n",
    "        quickSortHelper(alist,splitPoint+1,last)\n",
    "        quickSortHelper(alist,first,splitPoint-1)\n",
    "        \n",
    "        "
   ]
  }
 ],
 "metadata": {
  "kernelspec": {
   "display_name": "Python 3",
   "language": "python",
   "name": "python3"
  },
  "language_info": {
   "codemirror_mode": {
    "name": "ipython",
    "version": 3
   },
   "file_extension": ".py",
   "mimetype": "text/x-python",
   "name": "python",
   "nbconvert_exporter": "python",
   "pygments_lexer": "ipython3",
   "version": "3.6.3"
  }
 },
 "nbformat": 4,
 "nbformat_minor": 2
}
