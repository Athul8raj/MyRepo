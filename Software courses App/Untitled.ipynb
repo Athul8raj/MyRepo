{
 "cells": [
  {
   "cell_type": "code",
   "execution_count": 1,
   "metadata": {},
   "outputs": [
    {
     "name": "stdout",
     "output_type": "stream",
     "text": [
      "270\n"
     ]
    }
   ],
   "source": [
    "with open(\"app.py\",'r') as f:\n",
    "    count = 0\n",
    "    for line in f:\n",
    "        for character in line:\n",
    "            count += (1 if character.isupper() else 0)\n",
    "    print (count)"
   ]
  },
  {
   "cell_type": "code",
   "execution_count": 6,
   "metadata": {},
   "outputs": [
    {
     "name": "stdout",
     "output_type": "stream",
     "text": [
      "My name's rover and the number of pets is 0\n",
      "My name's spot and the number of pets is 0\n"
     ]
    }
   ],
   "source": [
    "  class Pet(object):\n",
    "    num_pets = 0\n",
    "\n",
    "    def __init__(self, name):\n",
    "        self.name = name\n",
    "        Pet.num_pets += 1\n",
    "\n",
    "    def speak(self):\n",
    "        print(\"My name's %s and the number of pets is %d\" % (self.name, self.num_pets))\n",
    "        \n",
    "rover = Pet(\"rover\")\n",
    "spot = Pet(\"spot\")\n",
    "rover.speak()\n",
    "spot.speak()"
   ]
  },
  {
   "cell_type": "code",
   "execution_count": null,
   "metadata": {},
   "outputs": [],
   "source": [
    "def fib(n):\n",
    "    a,b = 0,1\n",
    "    for i in range(n):\n",
    "        result = a\n",
    "        a,b = b,a+b\n",
    "        return result\n",
    "\n",
    "n = 10\n",
    "print(fib(n))\n"
   ]
  },
  {
   "cell_type": "code",
   "execution_count": 22,
   "metadata": {},
   "outputs": [
    {
     "name": "stdout",
     "output_type": "stream",
     "text": [
      "1440\n"
     ]
    }
   ],
   "source": [
    "def maximum_product(nums): # O(n log(n)) solution\n",
    "   nums.sort()\n",
    "   a1 = nums[-1] * nums[-2] * nums[-3]\n",
    "   a2 = nums[0] * nums[1] * nums[-1]\n",
    "   return max(a1, a2)\n",
    "\n",
    "a = maximum_product([2,4,5,24,2,12])\n",
    "print(a)"
   ]
  },
  {
   "cell_type": "code",
   "execution_count": 2,
   "metadata": {},
   "outputs": [
    {
     "name": "stdout",
     "output_type": "stream",
     "text": [
      "HelloWorld\n"
     ]
    }
   ],
   "source": [
    "my_string = \"Hello World\"\n",
    "my_str = list(my_string.replace(\" \",\"\"))\n",
    "li = ''.join(my_str)\n",
    "print(li)"
   ]
  },
  {
   "cell_type": "code",
   "execution_count": 23,
   "metadata": {},
   "outputs": [
    {
     "name": "stdout",
     "output_type": "stream",
     "text": [
      "\n",
      "Multiplication Table\n",
      "[0, 1, 0]\n",
      "[1, 1, 1]\n",
      "[2, 1, 2]\n",
      "[3, 1, 3]\n",
      "[4, 1, 4]\n",
      "[0, 2, 0]\n",
      "[1, 2, 2]\n",
      "[2, 2, 4]\n",
      "[3, 2, 6]\n",
      "[4, 2, 8]\n",
      "[0, 3, 0]\n",
      "[1, 3, 3]\n",
      "[2, 3, 6]\n",
      "[3, 3, 9]\n",
      "[4, 3, 12]\n",
      "[0, 4, 0]\n",
      "[1, 4, 4]\n",
      "[2, 4, 8]\n",
      "[3, 4, 12]\n",
      "[4, 4, 16]\n",
      "[0, 5, 0]\n",
      "[1, 5, 5]\n",
      "[2, 5, 10]\n",
      "[3, 5, 15]\n",
      "[4, 5, 20]\n",
      "[0, 6, 0]\n",
      "[1, 6, 6]\n",
      "[2, 6, 12]\n",
      "[3, 6, 18]\n",
      "[4, 6, 24]\n",
      "[0, 7, 0]\n",
      "[1, 7, 7]\n",
      "[2, 7, 14]\n",
      "[3, 7, 21]\n",
      "[4, 7, 28]\n",
      "[0, 8, 0]\n",
      "[1, 8, 8]\n",
      "[2, 8, 16]\n",
      "[3, 8, 24]\n",
      "[4, 8, 32]\n",
      "[0, 9, 0]\n",
      "[1, 9, 9]\n",
      "[2, 9, 18]\n",
      "[3, 9, 27]\n",
      "[4, 9, 36]\n",
      "[0, 10, 0]\n",
      "[1, 10, 10]\n",
      "[2, 10, 20]\n",
      "[3, 10, 30]\n",
      "[4, 10, 40]\n"
     ]
    }
   ],
   "source": [
    "\n",
    "table = [[a, b, a * b] for b in range(1, 11) for a in range(5)]\n",
    " \n",
    "print(\"\\nMultiplication Table\")\n",
    "for i in table:\n",
    "    print (i)"
   ]
  },
  {
   "cell_type": "code",
   "execution_count": 18,
   "metadata": {},
   "outputs": [
    {
     "name": "stdout",
     "output_type": "stream",
     "text": [
      "['m', 'y', ' ', 'W', 'o', 'r', 'l', 'd']\n"
     ]
    },
    {
     "ename": "AttributeError",
     "evalue": "'list' object has no attribute 'replace'",
     "output_type": "error",
     "traceback": [
      "\u001b[1;31m---------------------------------------------------------------------------\u001b[0m",
      "\u001b[1;31mAttributeError\u001b[0m                            Traceback (most recent call last)",
      "\u001b[1;32m<ipython-input-18-7667fcda30cc>\u001b[0m in \u001b[0;36m<module>\u001b[1;34m()\u001b[0m\n\u001b[0;32m      2\u001b[0m \u001b[0mli\u001b[0m \u001b[1;33m=\u001b[0m \u001b[0mlist\u001b[0m\u001b[1;33m(\u001b[0m\u001b[0mv\u001b[0m\u001b[1;33m)\u001b[0m\u001b[1;33m\u001b[0m\u001b[0m\n\u001b[0;32m      3\u001b[0m \u001b[0mprint\u001b[0m \u001b[1;33m(\u001b[0m\u001b[0mli\u001b[0m\u001b[1;33m)\u001b[0m\u001b[1;33m\u001b[0m\u001b[0m\n\u001b[1;32m----> 4\u001b[1;33m \u001b[0mb\u001b[0m \u001b[1;33m=\u001b[0m \u001b[0mli\u001b[0m\u001b[1;33m.\u001b[0m\u001b[0mreplace\u001b[0m\u001b[1;33m(\u001b[0m\u001b[1;34m\" \"\u001b[0m\u001b[1;33m)\u001b[0m\u001b[1;33m\u001b[0m\u001b[0m\n\u001b[0m\u001b[0;32m      5\u001b[0m \u001b[0mprint\u001b[0m \u001b[1;33m(\u001b[0m\u001b[0mb\u001b[0m\u001b[1;33m)\u001b[0m\u001b[1;33m\u001b[0m\u001b[0m\n",
      "\u001b[1;31mAttributeError\u001b[0m: 'list' object has no attribute 'replace'"
     ]
    }
   ],
   "source": [
    "v = \"my World\"\n",
    "li = list(v)\n",
    "print (li)"
   ]
  },
  {
   "cell_type": "code",
   "execution_count": 12,
   "metadata": {},
   "outputs": [],
   "source": [
    "t = (1,2,3,'123')\n"
   ]
  },
  {
   "cell_type": "code",
   "execution_count": 7,
   "metadata": {},
   "outputs": [
    {
     "name": "stdout",
     "output_type": "stream",
     "text": [
      "[4]\n"
     ]
    }
   ],
   "source": [
    "t = ([1,4])\n",
    "for i in t:\n",
    "    t.pop(0)\n",
    "    print(t)"
   ]
  },
  {
   "cell_type": "code",
   "execution_count": 5,
   "metadata": {},
   "outputs": [
    {
     "name": "stdout",
     "output_type": "stream",
     "text": [
      "0\n"
     ]
    }
   ],
   "source": [
    "def findMin(aList):\n",
    "    miniNum  = aList[0]\n",
    "    for i in aList:\n",
    "        if i < miniNum:\n",
    "            miniNum = i\n",
    "    return miniNum\n",
    "\n",
    "print(findMin([3,2,5,6,0]))"
   ]
  },
  {
   "cell_type": "code",
   "execution_count": 7,
   "metadata": {},
   "outputs": [
    {
     "name": "stdout",
     "output_type": "stream",
     "text": [
      "2\n"
     ]
    }
   ],
   "source": [
    "def findMin(alist):\n",
    "    minNum = alist[0]\n",
    "    for i in alist:\n",
    "        issmallest = True\n",
    "        for j in alist:\n",
    "            if i > j:\n",
    "                issmallest = False\n",
    "        if issmallest:\n",
    "            minNum = i\n",
    "    return minNum\n",
    "\n",
    "print(findMin([3,2,5,6]))"
   ]
  },
  {
   "cell_type": "code",
   "execution_count": 14,
   "metadata": {},
   "outputs": [
    {
     "name": "stdout",
     "output_type": "stream",
     "text": [
      "False\n"
     ]
    }
   ],
   "source": [
    "def anagram(s1,s2):\n",
    "    list1 = list(s1)\n",
    "    list2 = list(s2)\n",
    "    \n",
    "    list1.sort()\n",
    "    list2.sort()\n",
    "    \n",
    "    matches = True\n",
    "    pos = 0\n",
    "    \n",
    "    while pos < len(s1) and matches:\n",
    "        if list1[pos] == list2[pos]:\n",
    "            pos += 1\n",
    "        else:\n",
    "            matches = False\n",
    "    return matches\n",
    "\n",
    "print(anagram('abce','edba'))"
   ]
  },
  {
   "cell_type": "code",
   "execution_count": 29,
   "metadata": {},
   "outputs": [
    {
     "data": {
      "text/plain": [
       "False"
      ]
     },
     "execution_count": 29,
     "metadata": {},
     "output_type": "execute_result"
    }
   ],
   "source": [
    "class Stack:\n",
    "    def __init__(self):\n",
    "        self.items = []\n",
    "    def push(self,item):\n",
    "        self.items.append(item)\n",
    "    def isEmpty(self):\n",
    "        if self.items == []:\n",
    "            return True\n",
    "        else:\n",
    "            return False\n",
    "        \n",
    "stack = Stack()\n",
    "stack.push(\"Bob\")\n",
    "stack.isEmpty()"
   ]
  },
  {
   "cell_type": "code",
   "execution_count": 20,
   "metadata": {},
   "outputs": [
    {
     "name": "stdout",
     "output_type": "stream",
     "text": [
      "The factorial of 10 is 3628800\n"
     ]
    }
   ],
   "source": [
    "n = 10\n",
    "factorial = 1\n",
    "if n < 0 :\n",
    "    print (\"Factorial does not exist\")\n",
    "elif n == 0:\n",
    "    print (\"factorila is 1\")\n",
    "else:\n",
    "    for i in range(1,n + 1):\n",
    "        factorial = factorial* i \n",
    "    print (\"The factorial of\",n,\"is\",factorial)\n",
    "\n",
    "        \n",
    "   \n"
   ]
  },
  {
   "cell_type": "code",
   "execution_count": 26,
   "metadata": {},
   "outputs": [
    {
     "name": "stdout",
     "output_type": "stream",
     "text": [
      "The factorial of 6 is 720\n"
     ]
    }
   ],
   "source": [
    "# Python program to find the factorial of a number provided by the user.\n",
    "\n",
    "# change the value for a different result\n",
    "num = 6\n",
    "\n",
    "# uncomment to take input from the user\n",
    "#num = int(input(\"Enter a number: \"))\n",
    "\n",
    "factorial = 1\n",
    "\n",
    "# check if the number is negative, positive or zero\n",
    "if num < 0:\n",
    "   print(\"Sorry, factorial does not exist for negative numbers\")\n",
    "elif num == 0:\n",
    "   print(\"The factorial of 0 is 1\")\n",
    "else:\n",
    "   for i in range(1,num + 1):\n",
    "       factorial = factorial*i\n",
    "   print(\"The factorial of\",num,\"is\",factorial)"
   ]
  },
  {
   "cell_type": "code",
   "execution_count": 48,
   "metadata": {},
   "outputs": [
    {
     "name": "stdout",
     "output_type": "stream",
     "text": [
      "The factorial of 7 is 5040\n"
     ]
    }
   ],
   "source": [
    "n = 7\n",
    "def recursion(n):\n",
    "    if n == 1:\n",
    "        return n\n",
    "    else:\n",
    "        return n*recursion(n-1)\n",
    "\n",
    "if n < 0 :\n",
    "    print (\"Factorial does not exist\")\n",
    "elif n == 0:\n",
    "    print (\"factorila is 1\")\n",
    "else:\n",
    "    print (\"The factorial of\",n,\"is\",recursion(n))\n",
    "\n"
   ]
  },
  {
   "cell_type": "code",
   "execution_count": 58,
   "metadata": {},
   "outputs": [
    {
     "name": "stdout",
     "output_type": "stream",
     "text": [
      "its not a prime\n",
      "7 times 263 is 1841\n"
     ]
    }
   ],
   "source": [
    "n = 1841\n",
    "\n",
    "if n > 1 :\n",
    "    for i in range(2,n+1):\n",
    "        if (n % i) == 0:\n",
    "            print (\"its not a prime\")\n",
    "            print (i,\"times\", n//i, \"is\", n)\n",
    "            break\n",
    "    else:\n",
    "        print(\"It is a prime number\")\n",
    "else:\n",
    "    print (\"it is not a prime number\")\n",
    "        "
   ]
  },
  {
   "cell_type": "code",
   "execution_count": 62,
   "metadata": {},
   "outputs": [],
   "source": [
    "class Node:\n",
    "    def __init__(self, contents=None, next=None):\n",
    "        self.contents = contents\n",
    "        self.next  = next\n",
    "\n",
    "    def getContents(self):\n",
    "        return self.contents\n",
    "\n",
    "    def __str__(self):\n",
    "        return str(self.contents)\n",
    "\n",
    "def print_list(node):\n",
    "    while node:\n",
    "        print(node.getContents())\n",
    "        node = node.next\n",
    "    print()\n",
    "\n",
    "def testList():\n",
    "    node1 = Node(\"car\")\n",
    "    node2 = Node(\"bus\")\n",
    "    node3 = Node(\"lorry\")\n",
    "    node1.next = node2\n",
    "    node2.next = node3\n",
    "    print_list(node1)"
   ]
  },
  {
   "cell_type": "code",
   "execution_count": 67,
   "metadata": {},
   "outputs": [
    {
     "name": "stdout",
     "output_type": "stream",
     "text": [
      "{1: 'Apple', 2: 'Mango', 3: 'Pine', 4: 'Guava'}\n"
     ]
    }
   ],
   "source": [
    "list1 = [1,2,3,4]\n",
    "list2 = [\"Apple\",\"Mango\",\"Pine\",\"Guava\"]\n",
    "dic = dict(zip(list1,list2))\n",
    "print (dic)"
   ]
  },
  {
   "cell_type": "code",
   "execution_count": 75,
   "metadata": {},
   "outputs": [
    {
     "data": {
      "text/plain": [
       "[1, 2, 3, 4, 5, 6, 2, 3, 4, 1, 6, 7]"
      ]
     },
     "execution_count": 75,
     "metadata": {},
     "output_type": "execute_result"
    }
   ],
   "source": [
    "list = [[1,2],[3,4],[5,6],[2,3],[4,1],[6,7]]\n",
    "sum(list,[])"
   ]
  },
  {
   "cell_type": "code",
   "execution_count": 80,
   "metadata": {},
   "outputs": [
    {
     "data": {
      "text/plain": [
       "array([], dtype=float64)"
      ]
     },
     "execution_count": 80,
     "metadata": {},
     "output_type": "execute_result"
    }
   ],
   "source": [
    "import numpy as np\n",
    "np.array([])"
   ]
  },
  {
   "cell_type": "code",
   "execution_count": 27,
   "metadata": {},
   "outputs": [
    {
     "name": "stdout",
     "output_type": "stream",
     "text": [
      "2\n"
     ]
    }
   ],
   "source": [
    "print (5//2)"
   ]
  },
  {
   "cell_type": "code",
   "execution_count": 25,
   "metadata": {},
   "outputs": [
    {
     "name": "stdout",
     "output_type": "stream",
     "text": [
      "None\n"
     ]
    }
   ],
   "source": [
    "li = [1,2,3,4,5]\n",
    "l = li.append(21)\n",
    "print (l)"
   ]
  },
  {
   "cell_type": "code",
   "execution_count": 3,
   "metadata": {},
   "outputs": [
    {
     "name": "stdout",
     "output_type": "stream",
     "text": [
      "Tests passed!\n"
     ]
    }
   ],
   "source": [
    "def convert_to_decimal(number,base):\n",
    "    multiplier,result = 1,0\n",
    "    while number > 0:\n",
    "        result += number%10*multiplier\n",
    "        multiplier *= base\n",
    "        number = number //10\n",
    "    return result\n",
    "\n",
    "def test_convert_to_decimal():\n",
    "    number, base = 1001, 2\n",
    "    assert(convert_to_decimal(number, base) == 9)\n",
    "    print('Tests passed!')\n",
    "\n",
    "if __name__ == '__main__':\n",
    "    test_convert_to_decimal()\n",
    "    \n",
    "    "
   ]
  },
  {
   "cell_type": "code",
   "execution_count": 8,
   "metadata": {},
   "outputs": [
    {
     "name": "stdout",
     "output_type": "stream",
     "text": [
      "Tests passed!\n"
     ]
    }
   ],
   "source": [
    "def convert_from_decimal(number,base):\n",
    "    multiplier,result = 1,0\n",
    "    while number > 0:\n",
    "        result += number%base*multiplier\n",
    "        multiplier *= 10\n",
    "        number = number // base\n",
    "    return result\n",
    "\n",
    "def test_convert_to_decimal():\n",
    "    number, base = 9, 2\n",
    "    assert(convert_from_decimal(number, base) == 1001)\n",
    "    print('Tests passed!')\n",
    "\n",
    "if __name__ == '__main__':\n",
    "    test_convert_to_decimal()"
   ]
  },
  {
   "cell_type": "code",
   "execution_count": 14,
   "metadata": {},
   "outputs": [
    {
     "name": "stdout",
     "output_type": "stream",
     "text": [
      "Tests passed!\n"
     ]
    }
   ],
   "source": [
    "def gcd(a,b):\n",
    "    while (b != 0):\n",
    "        result = b\n",
    "        a,b = b, a%b\n",
    "    return result\n",
    "\n",
    "def test_finding_gcd():\n",
    "    number1 = 21\n",
    "    number2 = 12\n",
    "    assert(gcd(number1, number2) == 3)\n",
    "    print('Tests passed!')\n",
    "\n",
    "if __name__ == '__main__':\n",
    "    test_finding_gcd()\n",
    "    "
   ]
  },
  {
   "cell_type": "code",
   "execution_count": 16,
   "metadata": {},
   "outputs": [],
   "source": [
    "def prime(num):\n",
    "    while num < 4 :\n",
    "        return True\n",
    "    for x in range(2, num+1):\n",
    "        if num % x == 0:\n",
    "            return True\n",
    "        else:\n",
    "            return False\n",
    "    return True\n",
    "\n",
    "def test_prime():\n",
    "    num = 10\n",
    "    assert(prime(num) == False)\n",
    "    print(\"Test passed\")"
   ]
  },
  {
   "cell_type": "code",
   "execution_count": 28,
   "metadata": {},
   "outputs": [
    {
     "name": "stdout",
     "output_type": "stream",
     "text": [
      "140\n"
     ]
    }
   ],
   "source": [
    "import numpy as np\n",
    "import random\n",
    "\n",
    "ax = np.random.randint(400)\n",
    "print (ax)"
   ]
  },
  {
   "cell_type": "code",
   "execution_count": 33,
   "metadata": {},
   "outputs": [
    {
     "name": "stdout",
     "output_type": "stream",
     "text": [
      "<class 'type'>\n"
     ]
    }
   ],
   "source": [
    "class Li:\n",
    "    def __init__(self,num):\n",
    "        self.num = num\n",
    "    \n",
    "    \n",
    "\n",
    "print(type(Li))"
   ]
  },
  {
   "cell_type": "code",
   "execution_count": 34,
   "metadata": {},
   "outputs": [
    {
     "name": "stdout",
     "output_type": "stream",
     "text": [
      "\n",
      "None\n"
     ]
    }
   ],
   "source": [
    "print(print())"
   ]
  },
  {
   "cell_type": "code",
   "execution_count": 45,
   "metadata": {},
   "outputs": [
    {
     "name": "stdout",
     "output_type": "stream",
     "text": [
      "PQR STU VWX\n"
     ]
    }
   ],
   "source": [
    "li = 'XWV UTS RQP'\n",
    "li= li[::-1]\n",
    "print(li)\n"
   ]
  },
  {
   "cell_type": "code",
   "execution_count": 38,
   "metadata": {},
   "outputs": [
    {
     "name": "stdout",
     "output_type": "stream",
     "text": [
      "012\n"
     ]
    },
    {
     "ename": "TypeError",
     "evalue": "unsupported operand type(s) for +=: 'int' and 'str'",
     "output_type": "error",
     "traceback": [
      "\u001b[1;31m---------------------------------------------------------------------------\u001b[0m",
      "\u001b[1;31mTypeError\u001b[0m                                 Traceback (most recent call last)",
      "\u001b[1;32m<ipython-input-38-57242c468802>\u001b[0m in \u001b[0;36m<module>\u001b[1;34m()\u001b[0m\n\u001b[0;32m      4\u001b[0m \u001b[0msummer\u001b[0m \u001b[1;33m=\u001b[0m \u001b[1;36m0\u001b[0m\u001b[1;33m\u001b[0m\u001b[0m\n\u001b[0;32m      5\u001b[0m \u001b[1;32mfor\u001b[0m \u001b[0mi\u001b[0m \u001b[1;32min\u001b[0m \u001b[0mrange\u001b[0m\u001b[1;33m(\u001b[0m\u001b[0mlen\u001b[0m\u001b[1;33m(\u001b[0m\u001b[0mnum\u001b[0m\u001b[1;33m)\u001b[0m\u001b[1;33m)\u001b[0m\u001b[1;33m:\u001b[0m\u001b[1;33m\u001b[0m\u001b[0m\n\u001b[1;32m----> 6\u001b[1;33m     \u001b[0msummer\u001b[0m \u001b[1;33m+=\u001b[0m \u001b[0mnum\u001b[0m\u001b[1;33m\u001b[0m\u001b[0m\n\u001b[0m\u001b[0;32m      7\u001b[0m     \u001b[0mnum\u001b[0m \u001b[1;33m-=\u001b[0m \u001b[1;36m1\u001b[0m\u001b[1;33m\u001b[0m\u001b[0m\n\u001b[0;32m      8\u001b[0m     \u001b[0mprint\u001b[0m \u001b[1;33m(\u001b[0m\u001b[0mint\u001b[0m\u001b[1;33m(\u001b[0m\u001b[0msummer\u001b[0m\u001b[1;33m)\u001b[0m\u001b[1;33m)\u001b[0m\u001b[1;33m\u001b[0m\u001b[0m\n",
      "\u001b[1;31mTypeError\u001b[0m: unsupported operand type(s) for +=: 'int' and 'str'"
     ]
    }
   ],
   "source": [
    "num = input(int())\n",
    "num = map()\n",
    "\n",
    "\n",
    "summer = 0\n",
    "for i in range(len(num)):\n",
    "    summer += num\n",
    "    num -= 1\n",
    "    print (int(summer))"
   ]
  },
  {
   "cell_type": "code",
   "execution_count": 69,
   "metadata": {},
   "outputs": [
    {
     "name": "stdout",
     "output_type": "stream",
     "text": [
      "['C:\\\\ProgramData\\\\Anaconda3\\\\lib\\\\site-packages\\\\ipykernel_launcher.py', '-f', 'C:\\\\Users\\\\IBM_ADMIN\\\\AppData\\\\Roaming\\\\jupyter\\\\runtime\\\\kernel-0c7ddd58-cb0d-4108-943f-2736b4b9a060.json']\n"
     ]
    }
   ],
   "source": [
    "import sys\n",
    "\n",
    "print(sys.argv)"
   ]
  },
  {
   "cell_type": "code",
   "execution_count": 71,
   "metadata": {},
   "outputs": [
    {
     "name": "stdout",
     "output_type": "stream",
     "text": [
      "[1, 2, 3, 4, 5]\n"
     ]
    }
   ],
   "source": [
    "some_numbers = [5, 4, 3, 2, 1]\n",
    "some_numbers = sorted(some_numbers)\n",
    "print (some_numbers)"
   ]
  },
  {
   "cell_type": "code",
   "execution_count": 8,
   "metadata": {},
   "outputs": [
    {
     "name": "stdout",
     "output_type": "stream",
     "text": [
      "[0, 1, 2, 3]\n"
     ]
    }
   ],
   "source": [
    "some_list = [1, 2, 3, 4, 5, 6]\n",
    "li = []\n",
    "for item in range(len(some_list)):\n",
    "    if item < 4:\n",
    "        li.append(item)        \n",
    "print (li)"
   ]
  },
  {
   "cell_type": "code",
   "execution_count": 40,
   "metadata": {},
   "outputs": [
    {
     "name": "stdout",
     "output_type": "stream",
     "text": [
      "[17, 20, 26, 31, 44, 54, 55, 77, 93]\n"
     ]
    }
   ],
   "source": [
    "def bubble_sort(alist):\n",
    "    for num in range(len(alist)-1,0,-1):\n",
    "        for i in range(num):\n",
    "            if alist[i] > alist[i+1]:\n",
    "                temp = alist[i]\n",
    "                alist[i] = alist[i+1]\n",
    "                alist[i+1] = temp\n",
    "            \n",
    "alist = [54,26,93,17,77,31,44,55,20]\n",
    "bubble_sort(alist)\n",
    "print(alist)\n",
    "            "
   ]
  },
  {
   "cell_type": "code",
   "execution_count": 10,
   "metadata": {},
   "outputs": [
    {
     "name": "stdout",
     "output_type": "stream",
     "text": [
      "False\n",
      "False\n"
     ]
    }
   ],
   "source": [
    "#for balancing parantheses\n",
    "\n",
    "\n",
    "def parChecker(symbolString):\n",
    "    s = []\n",
    "    balanced = True\n",
    "    index = 0\n",
    "    while index < len(symbolString) and balanced:\n",
    "        balanced = False\n",
    "        symbol = symbolString[index]\n",
    "        if symbol == \"(\":\n",
    "            s.append(symbol)\n",
    "        else:\n",
    "            if s == []:\n",
    "                balanced = False\n",
    "            else:\n",
    "                s.pop()\n",
    "\n",
    "        index = index + 1\n",
    "\n",
    "    if balanced:\n",
    "        return True\n",
    "    else:\n",
    "        return False\n",
    "\n",
    "print(parChecker('((()))'))\n",
    "print(parChecker('(()'))"
   ]
  },
  {
   "cell_type": "code",
   "execution_count": 57,
   "metadata": {},
   "outputs": [
    {
     "name": "stdout",
     "output_type": "stream",
     "text": [
      "False\n"
     ]
    }
   ],
   "source": [
    "def closer(aString):\n",
    "    index = 0\n",
    "    s = []\n",
    "    found = False\n",
    "    while index < len(aString) and not found:\n",
    "        sym = aString[index]\n",
    "        if sym == (\"{\" or \"[\" or \"(\"):\n",
    "            s.append(sym)\n",
    "        else:\n",
    "            sym == (\"}\" or \"]\" or \")\")\n",
    "            s.append(sym)\n",
    "        index += 1\n",
    "    if len(s)% 2 == 0:\n",
    "        found = True\n",
    "        return found\n",
    "    else: \n",
    "        found = False\n",
    "        return found\n",
    "\n",
    "\n",
    "print (closer('(()}]'))\n",
    "        \n",
    "        \n",
    "            \n",
    "            \n",
    "        "
   ]
  },
  {
   "cell_type": "code",
   "execution_count": 58,
   "metadata": {},
   "outputs": [
    {
     "name": "stdout",
     "output_type": "stream",
     "text": [
      "\"Hello World\"\n",
      "\"\n",
      "H\n",
      "E\n",
      "L\n",
      "L\n",
      "O\n",
      " \n",
      "W\n",
      "O\n",
      "R\n",
      "L\n",
      "D\n",
      "\"\n"
     ]
    }
   ],
   "source": [
    "para = input(str())\n",
    "for line in para:\n",
    "    for char in line:\n",
    "        print (char.upper())\n",
    "    "
   ]
  },
  {
   "cell_type": "code",
   "execution_count": 60,
   "metadata": {},
   "outputs": [
    {
     "name": "stdout",
     "output_type": "stream",
     "text": [
      "\"Hello World\"\n",
      "\"Hi\"\n",
      "\"Hello\"\n",
      "\n",
      "\"HELLO WORLD\"\n",
      "\"HI\"\n",
      "\"HELLO\"\n"
     ]
    }
   ],
   "source": [
    "lines = []\n",
    "while True:\n",
    "    s = input()\n",
    "    if s:\n",
    "        lines.append(s.upper())\n",
    "    else:\n",
    "        break;\n",
    "\n",
    "for sentence in lines:\n",
    "    print (sentence)"
   ]
  },
  {
   "cell_type": "code",
   "execution_count": 64,
   "metadata": {},
   "outputs": [
    {
     "name": "stdout",
     "output_type": "stream",
     "text": [
      "Hello Hello\n",
      "Hello\n"
     ]
    }
   ],
   "source": [
    "s = input()\n",
    "words = [word for word in s.split(\" \")]\n",
    "print (''.join(sorted(list(set(words)))))"
   ]
  },
  {
   "cell_type": "code",
   "execution_count": 74,
   "metadata": {},
   "outputs": [
    {
     "name": "stdout",
     "output_type": "stream",
     "text": [
      "['Hello', \"World's\"]\n"
     ]
    }
   ],
   "source": [
    "line = \"Hello World's\\t\"\n",
    "li = line.split()\n",
    "print ((li))"
   ]
  },
  {
   "cell_type": "code",
   "execution_count": 75,
   "metadata": {},
   "outputs": [
    {
     "name": "stdout",
     "output_type": "stream",
     "text": [
      "Return the absolute value of the argument.\n"
     ]
    }
   ],
   "source": [
    "print (abs.__doc__)"
   ]
  },
  {
   "cell_type": "code",
   "execution_count": 1,
   "metadata": {},
   "outputs": [
    {
     "name": "stdout",
     "output_type": "stream",
     "text": [
      "min(iterable, *[, default=obj, key=func]) -> value\n",
      "min(arg1, arg2, *args, *[, key=func]) -> value\n",
      "\n",
      "With a single iterable argument, return its smallest item. The\n",
      "default keyword-only argument specifies an object to return if\n",
      "the provided iterable is empty.\n",
      "With two or more arguments, return the smallest argument.\n"
     ]
    }
   ],
   "source": [
    "print(min.__doc__)"
   ]
  },
  {
   "cell_type": "code",
   "execution_count": 2,
   "metadata": {},
   "outputs": [],
   "source": [
    "def selection_sort(mylist):\n",
    "    for fillitem in range(len(mylist)-1,0,-1):\n",
    "        maxPosition = 0\n",
    "        for location in range(1,fillitem+1):\n",
    "            if alist[location]>alist[maxPosition]:\n",
    "                maxPosition = location\n",
    "            \n",
    "        temp = alist[location]\n",
    "        alist[location] = alist[maxPosition]\n",
    "        alist[maxPosition] = temp\n",
    "        \n",
    "    return alist"
   ]
  },
  {
   "cell_type": "code",
   "execution_count": 3,
   "metadata": {},
   "outputs": [],
   "source": [
    "#Quick sort\n",
    "\n",
    "def quickSort(alist):\n",
    "    quickSortHelper(alist,first,last)\n",
    "    \n",
    "def quickSortHelper(alist,first,last):\n",
    "    if first< last:\n",
    "        \n",
    "        splitPoint = partition(alist,first,last)\n",
    "    \n",
    "        quickSortHelper(alist,first,splitPoint-1)\n",
    "        quickSortHelper(alist,splitPoint+1,last)\n",
    "        \n",
    "def partition(alist,first,last):\n",
    "    pivotValue = alist[first]\n",
    "    \n",
    "    leftmark = first+1\n",
    "    rightmark = last\n",
    "    \n",
    "    done =False\n",
    "    while not done:\n",
    "        while leftmark<=rightmark and alist[leftmark] <= pivotValue:\n",
    "            leftmark +=1\n",
    "        \n",
    "        "
   ]
  },
  {
   "cell_type": "code",
   "execution_count": 32,
   "metadata": {},
   "outputs": [
    {
     "name": "stdout",
     "output_type": "stream",
     "text": [
      "['d', 'c', 'b', 'a', '$', '#']\n"
     ]
    }
   ],
   "source": [
    "li = ['a','b','$','c','d','#','e']\n",
    "ali = sorted(li,reverse=True)\n",
    "print(ali)"
   ]
  },
  {
   "cell_type": "code",
   "execution_count": 1,
   "metadata": {},
   "outputs": [],
   "source": [
    "def binarySearch(alist,myItem):\n",
    "    top = len(alist) - 1\n",
    "    bottom = 0\n",
    "    middle = (top+bottom)//2\n",
    "    found = False\n",
    "    while bottom< len(alist) and not found:\n",
    "        if alist[middle] == myItem:\n",
    "            found = True\n",
    "            return found\n",
    "        elif alist[middle] < myItem:\n",
    "            bottom = middle+1\n",
    "        else:\n",
    "            top = middle - 1\n",
    "    return alist"
   ]
  },
  {
   "cell_type": "code",
   "execution_count": 2,
   "metadata": {},
   "outputs": [],
   "source": [
    "def bubbleSort(alist):\n",
    "    for num in range(len(alist)-1,0,-1):\n",
    "        for i in range(1,num+1):\n",
    "            if alist[i] < alist [i+1]:\n",
    "                temp = alist[i]\n",
    "                alist[i] = alist[i+1]\n",
    "                alist[i+1] = temp\n",
    "    return alist"
   ]
  },
  {
   "cell_type": "code",
   "execution_count": 3,
   "metadata": {},
   "outputs": [],
   "source": [
    "def selectionSort(alist):\n",
    "    for passnum in range(len(alist)-1,0,-1):\n",
    "        maxofpositon = 0\n",
    "        for num in range(passnum):\n",
    "            if alist[num] > alist[maxofpositon]:\n",
    "                maxofpositon = num\n",
    "            \n",
    "            \n",
    "                "
   ]
  },
  {
   "cell_type": "code",
   "execution_count": 4,
   "metadata": {},
   "outputs": [
    {
     "ename": "SyntaxError",
     "evalue": "invalid syntax (<ipython-input-4-3c28b39d69b1>, line 23)",
     "output_type": "error",
     "traceback": [
      "\u001b[1;36m  File \u001b[1;32m\"<ipython-input-4-3c28b39d69b1>\"\u001b[1;36m, line \u001b[1;32m23\u001b[0m\n\u001b[1;33m    if leftmark < rightmark and alist[leftmark]<=\u001b[0m\n\u001b[1;37m                                                 ^\u001b[0m\n\u001b[1;31mSyntaxError\u001b[0m\u001b[1;31m:\u001b[0m invalid syntax\n"
     ]
    }
   ],
   "source": [
    "def quickSort(alist):\n",
    "    quicksorthelper(alist,first,last)\n",
    "    \n",
    "    \n",
    "def quicksorthelper(alist,first,last):\n",
    "    first = 0\n",
    "    last = len(alist)-1\n",
    "    if first < last:\n",
    "        splitpoint = partition(alist,first,last)\n",
    "        \n",
    "        quicksorthelper(alist,first.splitpoint-1)\n",
    "        quicksorthelper(alist,splitpoint+1,last)\n",
    "        \n",
    "def partition(alist,first,last):\n",
    "    pivot = alist[first]\n",
    "    \n",
    "    done = False\n",
    "    \n",
    "    rightmark = last\n",
    "    leftmark = first+1\n",
    "    \n",
    "    while not done:\n",
    "        if leftmark < rightmark and alist[leftmark]<=\n",
    "        \n",
    "        "
   ]
  },
  {
   "cell_type": "code",
   "execution_count": 6,
   "metadata": {},
   "outputs": [
    {
     "ename": "SyntaxError",
     "evalue": "invalid syntax (<ipython-input-6-c6822fca3e5e>, line 12)",
     "output_type": "error",
     "traceback": [
      "\u001b[1;36m  File \u001b[1;32m\"<ipython-input-6-c6822fca3e5e>\"\u001b[1;36m, line \u001b[1;32m12\u001b[0m\n\u001b[1;33m    else largest is not  i:\u001b[0m\n\u001b[1;37m               ^\u001b[0m\n\u001b[1;31mSyntaxError\u001b[0m\u001b[1;31m:\u001b[0m invalid syntax\n"
     ]
    }
   ],
   "source": [
    "def heapify(arr,n,i):\n",
    "    largest = i\n",
    "    \n",
    "    l = 2*i +1\n",
    "    r = 2*i +2\n",
    "    \n",
    "    if l<r and arr[l] < arr[i]:\n",
    "        largest = l\n",
    "    elif r>i and arr[i]<arr[r]:\n",
    "        largest = r\n",
    "        \n",
    "    else :\n",
    "        \n",
    "        arr[i],arr[largest] = arr[largest],arr[i]\n",
    "        \n",
    "        heapify(arr,n,largest)\n",
    "        \n",
    "def heapSort(alist):\n",
    "    for i in range(n,-1,-1):\n",
    "        heapify (arr,n,i)\n",
    "        \n",
    "    for i in range(n-1,0,-1)\n",
    "        "
   ]
  },
  {
   "cell_type": "code",
   "execution_count": 9,
   "metadata": {},
   "outputs": [
    {
     "name": "stdout",
     "output_type": "stream",
     "text": [
      "Tests in this module have passed!\n"
     ]
    }
   ],
   "source": [
    "'''The following module searches an entry in a matrix where the rows and\n",
    "columns are sorted. In this case, every row is increasingly sorted from left\n",
    "to right, and every column is increasingly sorted from top to bottom. The\n",
    "runtime is linear on O(m + n):\n",
    "[general_problems/numbers/search_entry_matrix.py]'''\n",
    "def find_elem_matrix_bool(m1, value):\n",
    "    found = False\n",
    "    row = 0\n",
    "    col = len(m1[0]) - 1\n",
    "    while row < len(m1) and col >= 0:\n",
    "        if m1[row][col] == value:\n",
    "            found = True\n",
    "            break\n",
    "        elif m1[row][col] > value:\n",
    "            col-=1\n",
    "        else:\n",
    "            row+=1\n",
    "    return found\n",
    "    \n",
    "def test_find_elem_matrix_bool(module_name='this module'):\n",
    "    m1 = [[1,2,8,9], [2,4,9,12], [4,7,10,13], [6,8,11,15]]\n",
    "    assert(find_elem_matrix_bool(m1,8) == True)\n",
    "    assert(find_elem_matrix_bool(m1,3) == False)\n",
    "    m2 = [[0]]\n",
    "    assert(find_elem_matrix_bool(m2,0) == True)\n",
    "    s = 'Tests in {name} have {con}!'\n",
    "    print(s.format(name=module_name, con='passed'))\n",
    "    \n",
    "if __name__ == '__main__':\n",
    "    test_find_elem_matrix_bool()"
   ]
  },
  {
   "cell_type": "code",
   "execution_count": 10,
   "metadata": {},
   "outputs": [
    {
     "name": "stdout",
     "output_type": "stream",
     "text": [
      "Tests passed!\n"
     ]
    }
   ],
   "source": [
    "'''The following problem searches an element in a matrix where in every\n",
    "row, the values increasing from left to right, but the last number in a row\n",
    "is smaller than the \f",
    "rst number in the next row. The naive brute force\n",
    "solution scans all numbers and costs O(mn). However, since the numbers\n",
    "are already sorted, the matrix can be viewed as a 1D sorted array and we\n",
    "can use the binary search algorithm with e\u000eciency O(lognm):\n",
    "9.3. ADDITIONAL EXERCISES 157\n",
    "[searching/searching_in_a_matrix.py]'''\n",
    "import numpy\n",
    "def searching_in_a_matrix(m1, value):\n",
    "    rows = len(m1)\n",
    "    cols = len(m1[0])\n",
    "    lo = 0\n",
    "    hi = rows*cols\n",
    "    while lo < hi:\n",
    "        mid = (lo + hi)//2\n",
    "        row = mid//cols\n",
    "        col = mid%cols\n",
    "        v = m1[row][col]\n",
    "        if v == value: \n",
    "            return True\n",
    "        elif v > value: \n",
    "            hi = mid\n",
    "        else: \n",
    "            lo = mid+1\n",
    "    return False\n",
    "def test_searching_in_a_matrix():\n",
    "    a = [[1,3,5],[7,9,11],[13,15,17]]\n",
    "    b = numpy.array([(1,2),(3,4)])\n",
    "    assert(searching_in_a_matrix(a, 13) == True)\n",
    "    assert(searching_in_a_matrix(a, 14) == False)\n",
    "    assert(searching_in_a_matrix(b, 3) == True)\n",
    "    assert(searching_in_a_matrix(b, 5) == False)\n",
    "    print('Tests passed!')\n",
    "    \n",
    "if __name__ == '__main__':\n",
    "    test_searching_in_a_matrix()"
   ]
  },
  {
   "cell_type": "code",
   "execution_count": 17,
   "metadata": {},
   "outputs": [
    {
     "name": "stdout",
     "output_type": "stream",
     "text": [
      "Left  pan: 2 plus 1 \n",
      "Right pan: 3 \n",
      "\n",
      "Left  pan: 3 plus \n",
      "Right pan: 3 \n",
      "\n",
      "Left  pan: 4 plus \n",
      "Right pan: 1 3 \n",
      "\n",
      "Left  pan: 7 plus 3 \n",
      "Right pan: 1 9 \n",
      "\n",
      "Left  pan: 8 plus 1 \n",
      "Right pan: 9 \n",
      "\n",
      "Left  pan: 9 plus \n",
      "Right pan: 9 \n",
      "\n",
      "Left  pan: 20 plus 1 9 \n",
      "Right pan: 3 27 \n",
      "\n",
      "Left  pan: 40 plus \n",
      "Right pan: 1 3 9 27 \n",
      "\n"
     ]
    }
   ],
   "source": [
    "def factors_set():\n",
    "    factors_set = ( (i, j, k, l) for i in [-1, 0, 1] \n",
    "                          for j in [-1, 0, 1]\n",
    "                          for k in [-1, 0, 1]\n",
    "                          for l in [-1, 0, 1])\n",
    "    for factor in factors_set:\n",
    "        yield factor\n",
    "\n",
    "def memoize(f):\n",
    "    results = {}\n",
    "    def helper(n):\n",
    "        if n not in results:\n",
    "            results[n] = f(n)\n",
    "        return results[n]\n",
    "    return helper\n",
    "\n",
    "@memoize\n",
    "def linear_combination(n):\n",
    "    \"\"\" returns the tuple (i,j,k,l) satisfying\n",
    "        n = i*1 + j*3 + k*9 + l*27      \"\"\"\n",
    "    weighs = (1,3,9,27)\n",
    "      \n",
    "    for factors in factors_set():\n",
    "       sum = 0\n",
    "       for i in range(len(factors)):\n",
    "          sum += factors[i] * weighs[i]\n",
    "       if sum == n:\n",
    "          return factors\n",
    "        \n",
    "def weigh(pounds):\n",
    "    weights = (1, 3, 9, 27)\n",
    "    scalars = linear_combination(pounds)\n",
    "    left = \"\"\n",
    "    right = \"\"\n",
    "    for i in range(len(scalars)):\n",
    "        if scalars[i] == -1:\n",
    "            left += str(weights[i]) + \" \"\n",
    "        elif scalars[i] == 1:\n",
    "            right += str(weights[i]) + \" \"\n",
    "    return (left,right)\n",
    "\n",
    "for i in [2, 3, 4, 7, 8, 9, 20, 40]:\n",
    "    pans = weigh(i)\n",
    "    print(\"Left  pan: \" + str(i) + \" plus \" + pans[0])\n",
    "    print(\"Right pan: \" + pans[1] + \"\\n\")\n",
    "\n"
   ]
  },
  {
   "cell_type": "code",
   "execution_count": 25,
   "metadata": {},
   "outputs": [
    {
     "name": "stdout",
     "output_type": "stream",
     "text": [
      "Me\n"
     ]
    }
   ],
   "source": [
    "class A:\n",
    "    def __init__(self,data1):\n",
    "        self.data1 = data1\n",
    "        \n",
    "class B(A):\n",
    "    def __init__(self,data1,data2):\n",
    "        A.__init__(self,data1)\n",
    "        self.data2 = data2\n",
    "        \n",
    "    def swap(self):\n",
    "        self.data1,self.data2 = self.data2,self.data1\n",
    "        \n",
    "        return self.data2\n",
    "        \n",
    "emp_2 = B(\"Me\",\"You\")\n",
    "\n",
    "print(emp_2.swap())\n",
    "    "
   ]
  },
  {
   "cell_type": "code",
   "execution_count": 23,
   "metadata": {},
   "outputs": [
    {
     "name": "stdout",
     "output_type": "stream",
     "text": [
      "4\n"
     ]
    },
    {
     "ename": "TypeError",
     "evalue": "* wants int",
     "output_type": "error",
     "traceback": [
      "\u001b[1;31m---------------------------------------------------------------------------\u001b[0m",
      "\u001b[1;31mTypeError\u001b[0m                                 Traceback (most recent call last)",
      "\u001b[1;32m<ipython-input-23-ff70f65ec5b1>\u001b[0m in \u001b[0;36m<module>\u001b[1;34m()\u001b[0m\n\u001b[0;32m      1\u001b[0m \u001b[1;32mimport\u001b[0m \u001b[0mnumpy\u001b[0m \u001b[1;32mas\u001b[0m \u001b[0mnp\u001b[0m\u001b[1;33m\u001b[0m\u001b[0m\n\u001b[0;32m      2\u001b[0m \u001b[0mn\u001b[0m \u001b[1;33m=\u001b[0m \u001b[0minput\u001b[0m\u001b[1;33m(\u001b[0m\u001b[1;33m)\u001b[0m\u001b[1;33m\u001b[0m\u001b[0m\n\u001b[1;32m----> 3\u001b[1;33m \u001b[0mprint\u001b[0m\u001b[1;33m(\u001b[0m\u001b[1;34m\"%.*f\"\u001b[0m \u001b[1;33m%\u001b[0m \u001b[1;33m(\u001b[0m\u001b[0mn\u001b[0m\u001b[1;33m,\u001b[0m \u001b[0mnp\u001b[0m\u001b[1;33m.\u001b[0m\u001b[0mpi\u001b[0m\u001b[1;33m)\u001b[0m\u001b[1;33m)\u001b[0m\u001b[1;33m\u001b[0m\u001b[0m\n\u001b[0m\u001b[0;32m      4\u001b[0m \u001b[1;33m\u001b[0m\u001b[0m\n",
      "\u001b[1;31mTypeError\u001b[0m: * wants int"
     ]
    }
   ],
   "source": [
    "import numpy as np\n",
    "n = input()\n",
    "print(\"%.*f\" % (n, np.pi))\n",
    "    "
   ]
  },
  {
   "cell_type": "code",
   "execution_count": null,
   "metadata": {},
   "outputs": [],
   "source": [
    "from decimal import Decimal as Dec, getcontext as gc\n",
    "\n",
    "def PI(maxK=70, prec=1008, disp=1007): # parameter defaults chosen to gain 1000+ digits within a few seconds\n",
    "    gc().prec = prec\n",
    "    K, M, L, X, S = 6, 1, 13591409, 1, 13591409 \n",
    "    for k in range(1, maxK+1):\n",
    "        M = (K**3 - 16*K) * M // k**3 \n",
    "        L += 545140134\n",
    "        X *= -262537412640768000\n",
    "        S += Dec(M * L) / X\n",
    "        K += 12\n",
    "    pi = 426880 * Dec(10005).sqrt() / S\n",
    "    pi = Dec(str(pi)[:disp]) # drop few digits of precision for accuracy\n",
    "    print(\"PI(maxK=%d iterations, gc().prec=%d, disp=%d digits) =\\n%s\" % (maxK, prec, disp, pi))\n",
    "    return pi\n",
    "\n",
    "Pi = PI()\n",
    "print(\"\\nFor greater precision and more digits (takes a few extra seconds) - Try\")\n",
    "print(\"Pi = PI(317,4501,4500)\") \n",
    "print(\"Pi = PI(353,5022,5020)\")"
   ]
  },
  {
   "cell_type": "code",
   "execution_count": null,
   "metadata": {},
   "outputs": [],
   "source": [
    "from math import e\n",
    "n = input()\n",
    "print (\"%.*f\" % (n,e))"
   ]
  },
  {
   "cell_type": "code",
   "execution_count": null,
   "metadata": {},
   "outputs": [],
   "source": [
    "def fib(n):\n",
    "    a,b = 0,1\n",
    "    for i in range(n+1):\n",
    "        a,b = b ,a+b\n",
    "    return a\n",
    "\n",
    "print(fib(3))"
   ]
  },
  {
   "cell_type": "code",
   "execution_count": null,
   "metadata": {},
   "outputs": [],
   "source": [
    "import math\n",
    "def prime_factors(n):\n",
    "    while n % 2 == 0:\n",
    "        print 2\n",
    "        n = n /2\n",
    "    for i in range(3,int(math.sqrt(n)+1,2)):\n",
    "        while  n % i == 0:\n",
    "            print i \n",
    "            n = n // i\n",
    "    if  n >2:\n",
    "        print n"
   ]
  },
  {
   "cell_type": "code",
   "execution_count": null,
   "metadata": {},
   "outputs": [],
   "source": [
    "def ntime(f):\n",
    "    def wrapper(*args,**kwargs):\n",
    "        for i in range(*args+1):\n",
    "            result = f\n",
    "        return f\n",
    "    return wrapper\n",
    "@ntime\n",
    "def prime(n,num):\n",
    "    for i in range(n+1):\n",
    "        if i < 4:\n",
    "            print(\"Prime\")\n",
    "        elif:\n",
    "            for i in range(2,n+1):\n",
    "                if n%i == 0 and while num < int(input())\n",
    "                    \n",
    "                \n",
    "            "
   ]
  },
  {
   "cell_type": "code",
   "execution_count": null,
   "metadata": {},
   "outputs": [],
   "source": [
    "def cost(w,h,cost):\n",
    "    cost = input()\n",
    "    area = w*h\n",
    "    total cost = area*cost"
   ]
  },
  {
   "cell_type": "code",
   "execution_count": null,
   "metadata": {},
   "outputs": [],
   "source": [
    "def binary(n):\n",
    "    if n >1:\n",
    "        return binary(n//2)\n",
    "    print(n%2,end='')"
   ]
  },
  {
   "cell_type": "code",
   "execution_count": null,
   "metadata": {},
   "outputs": [],
   "source": [
    "binary = input()\n",
    "decimal = int(binary,2)"
   ]
  },
  {
   "cell_type": "code",
   "execution_count": null,
   "metadata": {},
   "outputs": [],
   "source": []
  },
  {
   "cell_type": "code",
   "execution_count": null,
   "metadata": {},
   "outputs": [],
   "source": []
  },
  {
   "cell_type": "code",
   "execution_count": null,
   "metadata": {},
   "outputs": [],
   "source": []
  },
  {
   "cell_type": "code",
   "execution_count": null,
   "metadata": {},
   "outputs": [],
   "source": []
  },
  {
   "cell_type": "code",
   "execution_count": null,
   "metadata": {},
   "outputs": [],
   "source": []
  },
  {
   "cell_type": "code",
   "execution_count": null,
   "metadata": {},
   "outputs": [],
   "source": []
  }
 ],
 "metadata": {
  "kernelspec": {
   "display_name": "Python 3",
   "language": "python",
   "name": "python3"
  },
  "language_info": {
   "codemirror_mode": {
    "name": "ipython",
    "version": 3
   },
   "file_extension": ".py",
   "mimetype": "text/x-python",
   "name": "python",
   "nbconvert_exporter": "python",
   "pygments_lexer": "ipython3",
   "version": "3.6.3"
  }
 },
 "nbformat": 4,
 "nbformat_minor": 2
}
